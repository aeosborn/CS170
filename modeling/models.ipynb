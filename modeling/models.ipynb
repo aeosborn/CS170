{
 "cells": [
  {
   "cell_type": "code",
   "execution_count": null,
   "id": "00d380e2",
   "metadata": {},
   "outputs": [],
   "source": [
    "import tensorflow as tf\n",
    "import numpy as np\n",
    "import pandas as pd\n",
    "from keras.layers import LSTM, Dense, Dropout, Input\n",
    "from keras.models import Sequential\n",
    "from sklearn.model_selection import train_test_split\n",
    "import seaborn as sns\n",
    "import matplotlib.pyplot as plt\n",
    "from sklearn.metrics import confusion_matrix\n",
    "import ydf\n",
    "from utilFunctions import feature_engineering, calculate_model_returns"
   ]
  },
  {
   "cell_type": "code",
   "execution_count": null,
   "id": "5fff4f10",
   "metadata": {},
   "outputs": [],
   "source": [
    "price_history = pd.read_csv('data/ETH_USD_11_20_2020-1_19_2021_historical_prices.csv', sep=';')\n",
    "whales = pd.read_csv('data/transactions_aggregated_21_22.csv')\n",
    "validators = pd.read_csv('data/validators_aggregated_21_22.csv')\n",
    "\n",
    "current_data = pd.read_csv('data/transaction_aggregated_25.csv')\n",
    "current_data = pd.read_csv('data/validators_aggregated_25.csv')"
   ]
  },
  {
   "cell_type": "markdown",
   "id": "cf5032b7",
   "metadata": {},
   "source": [
    "## Data Engineering"
   ]
  },
  {
   "cell_type": "code",
   "execution_count": null,
   "id": "55341e2d",
   "metadata": {},
   "outputs": [],
   "source": [
    "\n",
    "Xt, Xe, yt, ye = feature_engineering(num_labels=3, validators=validators, whales=whales, do_test_train_split=True)"
   ]
  },
  {
   "cell_type": "markdown",
   "id": "f4dcd13b",
   "metadata": {},
   "source": [
    "### Running Data Engineering for various model input format needs"
   ]
  },
  {
   "cell_type": "code",
   "execution_count": null,
   "id": "13678294",
   "metadata": {},
   "outputs": [],
   "source": [
    "# For YDP (TF Decision Forest Library)\n",
    "# Train\n",
    "ydf_train = pd.DataFrame(\n",
    "    data=Xt.reshape(Xt.shape[0], -1),\n",
    "    columns=[f\"feature_{i}\" for i in range(Xt.shape[1] * Xt.shape[2])]\n",
    ")\n",
    "ydf_train['labels'] = yt.values\n",
    "\n",
    "# Test\n",
    "ydf_test = pd.DataFrame(\n",
    "    data=Xe.reshape(Xe.shape[0], -1),\n",
    "    columns=[f\"feature_{i}\" for i in range(Xe.shape[1] * Xe.shape[2])]\n",
    ")\n",
    "ydf_test['labels'] = ye.values\n",
    "\n",
    "model = ydf.RandomForestLearner(\n",
    "    label= \"labels\",\n",
    "    task=ydf.Task.CLASSIFICATION,\n",
    "    num_trees=1000, # Default 300\n",
    "    max_depth=8, #Default 16\n",
    "    min_examples=10, #Default 5\n",
    ").train(ydf_train,)\n",
    "\n",
    "# Evaluate the model\n",
    "evaluation_train = model.evaluate(ydf_train)\n",
    "evaluation_test = model.evaluate(ydf_test)\n",
    "\n",
    "y_pred_test = model.predict(ydf_test)\n",
    "\n",
    "print(f\"Train Accuracy: {evaluation_train.accuracy}\")\n",
    "print(f\"Test Accuracy: {evaluation_test.accuracy}\")\n",
    "print(f\"Train Confusion Matrix\")\n",
    "print(evaluation_train.confusion_matrix)\n",
    "print(f\"Test Confusion Matrix\")\n",
    "print(evaluation_test.confusion_matrix)"
   ]
  },
  {
   "cell_type": "code",
   "execution_count": null,
   "id": "c5c435f5",
   "metadata": {},
   "outputs": [],
   "source": [
    "\n",
    "\n",
    "## Tensorflow models:\n",
    "\n",
    "# model = LogisticRegression(max_iter=1000, random_state=42) ## 40% Test\n",
    "# model = MLPClassifier([24, 24, 24], max_iter=10000, random_state=42, solver='adam', activation='logistic') ## 50% Test\n",
    "\n",
    "# Fit the model on the training data\n",
    "# model.fit(X_train, y_train)\n",
    "\n",
    "# Predict on training and test data\n",
    "# y_train_pred = model.predict(X_train)\n",
    "# y_test_pred = model.predict(X_test)\n",
    "\n",
    "# Calculate accuracy - FIXED to use windowed labels\n",
    "# train_accuracy = accuracy_score(y_train_windowed, y_train_pred)\n",
    "# test_accuracy = accuracy_score(y_test_windowed, y_test_pred)\n",
    "\n",
    "# print(f\"Train Accuracy: {train_accuracy}\")\n",
    "# print(f\"Test Accuracy: {test_accuracy}\")\n",
    "\n",
    "# # Generate the confusion matrix - FIXED to use windowed labels\n",
    "# conf_matrix = confusion_matrix(y_test_windowed, y_test_pred, labels=range(len(labels)))\n",
    "\n",
    "# # Plot the heatmap\n",
    "# plt.figure(figsize=(8, 6))\n",
    "# sns.heatmap(conf_matrix, annot=True, fmt='d', cmap='Blues', xticklabels=labels, yticklabels=labels)\n",
    "# plt.xlabel('Predicted Labels')\n",
    "# plt.ylabel('True Labels')\n",
    "# plt.title('Confusion Matrix Heatmap')\n",
    "# plt.show()"
   ]
  },
  {
   "cell_type": "markdown",
   "id": "7d6a56a9",
   "metadata": {},
   "source": [
    "## Historical Price prediction"
   ]
  },
  {
   "cell_type": "code",
   "execution_count": null,
   "id": "47b8b906",
   "metadata": {},
   "outputs": [],
   "source": [
    "## Get a vector of predictions for calculating backtesting (model returns based on history)\n",
    "\n",
    "# Calculate model returns\n",
    "calculate_model_returns(predictions=predictions, price_deltas=price_deltas_test, num_labels=num_labels,invest_on_tie=False, investment_rate=0.8)\n",
    "\n",
    "\n"
   ]
  }
 ],
 "metadata": {
  "kernelspec": {
   "display_name": "base",
   "language": "python",
   "name": "python3"
  },
  "language_info": {
   "name": "python",
   "version": "3.12.2"
  }
 },
 "nbformat": 4,
 "nbformat_minor": 5
}
